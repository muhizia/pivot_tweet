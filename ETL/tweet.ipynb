{
 "cells": [
  {
   "cell_type": "code",
   "execution_count": 1,
   "metadata": {},
   "outputs": [],
   "source": [
    "import pandas as pd\n",
    "import json\n",
    "import psycopg2"
   ]
  },
  {
   "cell_type": "code",
   "execution_count": 2,
   "metadata": {},
   "outputs": [],
   "source": [
    "FABLABS_API_URL = 'query2_ref.txt'"
   ]
  },
  {
   "cell_type": "code",
   "execution_count": 3,
   "metadata": {},
   "outputs": [],
   "source": [
    "df = pd.read_csv(FABLABS_API_URL, sep=\"\\n\", header=None, names=[\"Tweets\"])"
   ]
  },
  {
   "cell_type": "code",
   "execution_count": 4,
   "metadata": {},
   "outputs": [
    {
     "data": {
      "text/html": [
       "<div>\n",
       "<style scoped>\n",
       "    .dataframe tbody tr th:only-of-type {\n",
       "        vertical-align: middle;\n",
       "    }\n",
       "\n",
       "    .dataframe tbody tr th {\n",
       "        vertical-align: top;\n",
       "    }\n",
       "\n",
       "    .dataframe thead th {\n",
       "        text-align: right;\n",
       "    }\n",
       "</style>\n",
       "<table border=\"1\" class=\"dataframe\">\n",
       "  <thead>\n",
       "    <tr style=\"text-align: right;\">\n",
       "      <th></th>\n",
       "      <th>Tweets</th>\n",
       "    </tr>\n",
       "  </thead>\n",
       "  <tbody>\n",
       "    <tr>\n",
       "      <th>0</th>\n",
       "      <td>{\"created_at\":\"Fri Apr 04 05:30:11 +0000 2014\"...</td>\n",
       "    </tr>\n",
       "    <tr>\n",
       "      <th>1</th>\n",
       "      <td>{\"created_at\":\"Fri Apr 04 05:32:57 +0000 2014\"...</td>\n",
       "    </tr>\n",
       "    <tr>\n",
       "      <th>2</th>\n",
       "      <td>{\"created_at\":\"Fri Apr 04 05:35:06 +0000 2014\"...</td>\n",
       "    </tr>\n",
       "    <tr>\n",
       "      <th>3</th>\n",
       "      <td>{\"created_at\":\"Fri Apr 04 05:40:22 +0000 2014\"...</td>\n",
       "    </tr>\n",
       "    <tr>\n",
       "      <th>4</th>\n",
       "      <td>{\"created_at\":\"Fri Apr 04 05:40:26 +0000 2014\"...</td>\n",
       "    </tr>\n",
       "    <tr>\n",
       "      <th>...</th>\n",
       "      <td>...</td>\n",
       "    </tr>\n",
       "    <tr>\n",
       "      <th>39087</th>\n",
       "      <td>{\"created_at\":\"Wed May 28 21:46:19 +0000 2014\"...</td>\n",
       "    </tr>\n",
       "    <tr>\n",
       "      <th>39088</th>\n",
       "      <td>{\"created_at\":\"Wed May 28 21:49:54 +0000 2014\"...</td>\n",
       "    </tr>\n",
       "    <tr>\n",
       "      <th>39089</th>\n",
       "      <td>{\"created_at\":\"Wed May 28 21:52:47 +0000 2014\"...</td>\n",
       "    </tr>\n",
       "    <tr>\n",
       "      <th>39090</th>\n",
       "      <td>{\"created_at\":\"Wed May 28 21:52:54 +0000 2014\"...</td>\n",
       "    </tr>\n",
       "    <tr>\n",
       "      <th>39091</th>\n",
       "      <td>{\"created_at\":\"Wed May 28 21:58:15 +0000 2014\"...</td>\n",
       "    </tr>\n",
       "  </tbody>\n",
       "</table>\n",
       "<p>39092 rows × 1 columns</p>\n",
       "</div>"
      ],
      "text/plain": [
       "                                                  Tweets\n",
       "0      {\"created_at\":\"Fri Apr 04 05:30:11 +0000 2014\"...\n",
       "1      {\"created_at\":\"Fri Apr 04 05:32:57 +0000 2014\"...\n",
       "2      {\"created_at\":\"Fri Apr 04 05:35:06 +0000 2014\"...\n",
       "3      {\"created_at\":\"Fri Apr 04 05:40:22 +0000 2014\"...\n",
       "4      {\"created_at\":\"Fri Apr 04 05:40:26 +0000 2014\"...\n",
       "...                                                  ...\n",
       "39087  {\"created_at\":\"Wed May 28 21:46:19 +0000 2014\"...\n",
       "39088  {\"created_at\":\"Wed May 28 21:49:54 +0000 2014\"...\n",
       "39089  {\"created_at\":\"Wed May 28 21:52:47 +0000 2014\"...\n",
       "39090  {\"created_at\":\"Wed May 28 21:52:54 +0000 2014\"...\n",
       "39091  {\"created_at\":\"Wed May 28 21:58:15 +0000 2014\"...\n",
       "\n",
       "[39092 rows x 1 columns]"
      ]
     },
     "execution_count": 4,
     "metadata": {},
     "output_type": "execute_result"
    }
   ],
   "source": [
    "df"
   ]
  },
  {
   "cell_type": "code",
   "execution_count": 27,
   "metadata": {},
   "outputs": [],
   "source": [
    "def insert_into_table(args, table):\n",
    "    data = args #json.loads(json.dumps(args[0]))\n",
    "#     print(data)\n",
    "    values = list(data.values())\n",
    "    values = ['' if item is None else item for item in values]\n",
    "    columns = ','.join(list(data.keys()))\n",
    "#     print(values)\n",
    "#     print(columns)\n",
    "    with psycopg2.connect(dbname='tweet',user='rmohims-admin', host='localhost', password='') as conn:\n",
    "        with conn.cursor() as cur:\n",
    "            query_sql = (\"insert into {} ({}) VALUES %s;\").format(table, columns)\n",
    "            cur.execute(\"select id from {} where id = {}\".format(table, data['id']))\n",
    "            duplicate = cur.fetchone()\n",
    "            conn.commit()\n",
    "            if duplicate is None:\n",
    "                cur.execute(query_sql, (tuple(values),))\n",
    "                conn.commit()\n",
    "#             print(\"inserted\", type(args[0]))\n",
    "\n",
    "def transform(args):\n",
    "    \"\"\"Placeholder, change, rename, remove... \"\"\"\n",
    "    # user tweeted\n",
    "    user = args[\"user\"]\n",
    "    \n",
    "    # retweets and entities from a tweet\n",
    "    retweeted_status  = args[\"retweeted_status\"] if 'retweeted_status' in args else None\n",
    "    entities = args[\"entities\"] if 'entities' in args else None\n",
    "    \n",
    "    # hastag, urls and user_mentions from tweet\n",
    "    hash_tag = entities[\"hashtags\"] if 'hashtags' in entities else None\n",
    "    hash_tag = entities[\"urls\"] if 'urls' in entities else None\n",
    "    hash_tag = entities[\"user_mentions\"] if 'user_mentions' in entities else None\n",
    "    \n",
    "    # a user who retweeted and entity retweeted\n",
    "    user_retweet = retweeted_status[\"user\"] if retweeted_status is not None and 'user' in retweeted_status else None\n",
    "    entities_retweet = retweeted_status[\"entities\"] if retweeted_status is not None and 'entities' in retweeted_status else None\n",
    "    \n",
    "    # hastag, urls and user_mentions from retweet\n",
    "    hash_tag_retweet      = entities_retweet[\"hashtags\"] if entities_retweet is not None and 'hashtags' in entities_retweet else None\n",
    "    urls_retweet          = entities_retweet[\"urls\"] if entities_retweet is not None and 'urls' in entities_retweet else None\n",
    "    user_mentions_retweet = entities_retweet[\"user_mentions\"] if entities_retweet is not None and 'user_mentions' in entities_retweet else None\n",
    "    \n",
    "    del args['user']\n",
    "    args[\"users\"] = user['id']\n",
    "    \n",
    "    if 'display_text_range' in args and args['display_text_range'] is not None:\n",
    "        del args['display_text_range'] # = ','.join(args['display_text_range'])\n",
    "    \n",
    "    # delete coordinates, place, quoted_status, extended_entities, withheld_in_countries, extended_tweet and geo\n",
    "    args.pop('coordinates', None)\n",
    "    args.pop('place', None)\n",
    "    args.pop('quoted_status', None)\n",
    "    args.pop('extended_entities', None)\n",
    "    args.pop('withheld_in_countries', None)\n",
    "    args.pop('extended_tweet', None)\n",
    "    args.pop('geo', None)\n",
    "\n",
    "    # tweets\n",
    "    if retweeted_status is not None:\n",
    "        args[\"retweeted_status\"] = retweeted_status['id']\n",
    "        \n",
    "    if entities is not None:\n",
    "        entities['entities'] = args['id']\n",
    "        args.pop('entities')\n",
    "    \n",
    "    # entities from tweet\n",
    "    \n",
    "    if retweeted_status is not None and 'user' in retweeted_status:\n",
    "        retweeted_status[\"user\"] = user_retweet['id']\n",
    "        \n",
    "        \n",
    "    if retweeted_status is not None and 'entities' in retweeted_status:\n",
    "        retweeted_status.pop('entities')\n",
    "        \n",
    "    return [user, args] #, retweeted_status, entities, user_retweet, entities_retweet]\n",
    "    \n",
    "def load(args):\n",
    "    \"\"\"Placeholder, change, rename, remove... \"\"\"\n",
    "    tables = [\"users\", \"tweets\"] #, \"tweets\", \"entities\", \"users\", \"entities\"]\n",
    "    for i, value in enumerate(args):\n",
    "        insert_into_table(value, tables[i])\n",
    "    "
   ]
  },
  {
   "cell_type": "code",
   "execution_count": 28,
   "metadata": {},
   "outputs": [
    {
     "name": "stdout",
     "output_type": "stream",
     "text": [
      "Tweets\n"
     ]
    }
   ],
   "source": [
    "for col in df.columns:\n",
    "    print(col)"
   ]
  },
  {
   "cell_type": "code",
   "execution_count": 29,
   "metadata": {},
   "outputs": [],
   "source": [
    "# from sqlalchemy import Table, MetaData, create_engine, text\n",
    "\n",
    "# engine = create_engine(\"postgresql://postgres:@localhost/tweet\")\n",
    "\n",
    "# with engine.connect() as conn:\n",
    "#     conn.execute(text(\"SET search_path TO test_schema, public\"))\n",
    "#     metadata_obj = MetaData()\n",
    "#     referring = Table('users', metadata_obj, autoload_with=conn)"
   ]
  },
  {
   "cell_type": "code",
   "execution_count": 32,
   "metadata": {},
   "outputs": [],
   "source": [
    "i = 0\n",
    "for x in df.iterrows():\n",
    "    t = df.iloc[i].to_dict()['Tweets']\n",
    "    k=json.loads(t)\n",
    "    l_values = transform(k)\n",
    "    load(l_values)\n",
    "    i += 1\n",
    "#     if i == 10:\n",
    "#         break"
   ]
  },
  {
   "cell_type": "code",
   "execution_count": null,
   "metadata": {},
   "outputs": [],
   "source": []
  }
 ],
 "metadata": {
  "kernelspec": {
   "display_name": "Python 3",
   "language": "python",
   "name": "python3"
  },
  "language_info": {
   "codemirror_mode": {
    "name": "ipython",
    "version": 3
   },
   "file_extension": ".py",
   "mimetype": "text/x-python",
   "name": "python",
   "nbconvert_exporter": "python",
   "pygments_lexer": "ipython3",
   "version": "3.7.6"
  }
 },
 "nbformat": 4,
 "nbformat_minor": 4
}
